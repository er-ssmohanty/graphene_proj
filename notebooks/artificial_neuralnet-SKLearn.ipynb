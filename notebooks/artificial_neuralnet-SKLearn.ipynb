{
 "cells": [
  {
   "cell_type": "code",
   "execution_count": 1,
   "id": "7702a789-bc09-4489-be4f-9d255731e6de",
   "metadata": {},
   "outputs": [],
   "source": [
    "!conda activate surya"
   ]
  },
  {
   "cell_type": "markdown",
   "id": "d4f59405-280e-4116-9441-0eb214b88912",
   "metadata": {
    "id": "d4f59405-280e-4116-9441-0eb214b88912"
   },
   "source": [
    "# Artificial Neural Network Regressor(ANN)"
   ]
  },
  {
   "cell_type": "markdown",
   "id": "20efd641-7142-460f-919c-0960bc71a88d",
   "metadata": {},
   "source": [
    "First necessary libraries are imported to run the main program.\n",
    "Pandas is used for data frame creation and handling.\n",
    "Numpy is used for numercial analysis multidimentional array handling.\n",
    "Sci-kit learn module provides various submodules to preprocess the data, create and train the machine learning model and to test it's performance."
   ]
  },
  {
   "cell_type": "code",
   "execution_count": 2,
   "id": "f63c28cc-bb54-45e2-a611-15d1f6d0a6cd",
   "metadata": {
    "id": "f63c28cc-bb54-45e2-a611-15d1f6d0a6cd"
   },
   "outputs": [],
   "source": [
    "from sklearn.neural_network import MLPRegressor\n",
    "import numpy as np\n",
    "import pandas as pd\n",
    "from sklearn.model_selection import train_test_split"
   ]
  },
  {
   "cell_type": "markdown",
   "id": "5f5d71f1-2da2-423d-92af-115b23e95526",
   "metadata": {
    "id": "5f5d71f1-2da2-423d-92af-115b23e95526"
   },
   "source": [
    "The observational dataset is imported from the csv file and saved as a pandas data frame in variable grd.\n",
    "\n",
    "The 1st four columns Graphene_percentage, feed, RPM and DOC were taken as input and MRR as 2st output and `Ra` as 2nd output."
   ]
  },
  {
   "cell_type": "code",
   "execution_count": 3,
   "id": "1544569b-365b-4951-a138-1d3f909fe4e4",
   "metadata": {
    "id": "1544569b-365b-4951-a138-1d3f909fe4e4",
    "tags": []
   },
   "outputs": [],
   "source": [
    "grd = pd.read_csv(\"../data/graphene_data_final.csv\")\n",
    "grd = (grd-grd.min())/(grd.max()-grd.min())\n",
    "X = grd[['Graphene_percentage', 'FEED', 'RPM', 'DOC']] \n",
    "Y = grd['MRR_gm_per_sec']\n",
    "Y2 = grd['Ra']"
   ]
  },
  {
   "cell_type": "markdown",
   "id": "2e3fec2b-3c9d-473d-8a3d-4af02d5d9162",
   "metadata": {
    "id": "2e3fec2b-3c9d-473d-8a3d-4af02d5d9162"
   },
   "source": [
    "Now the input and output data are splited to form respective test and train data sets.\n",
    "X_train is the input and Y_train is the output data set used to train the model to predict `MRR`.\n",
    "X_test and Y_test are input and output data sets respectively those are used to test the performance of the `MRR` predictor model.\n",
    "X_train2 is the input and Y2_train is the output data set used to train the model to predict `Ra`.\n",
    "X_test2 and Y2_test are input and output data sets respectively those are used to test the performance of the `Ra` predictor model."
   ]
  },
  {
   "cell_type": "code",
   "execution_count": 4,
   "id": "b8e8de52-0a58-405f-bfc3-ad5f8724443b",
   "metadata": {
    "id": "b8e8de52-0a58-405f-bfc3-ad5f8724443b"
   },
   "outputs": [],
   "source": [
    "X_train, X_test, Y_train, Y_test = train_test_split(X, Y, test_size = 0.2, random_state=1)\n",
    "X_train2, X_test2, Y2_train, Y2_test = train_test_split(X, Y2, test_size=0.2, random_state=33)"
   ]
  },
  {
   "cell_type": "markdown",
   "id": "32fb496a-9e73-42f9-a9e7-1ab5073915c7",
   "metadata": {
    "id": "32fb496a-9e73-42f9-a9e7-1ab5073915c7"
   },
   "source": [
    "`MLPRegressor()` function is used to initiate a neural network model object.\n",
    "`fit` function is used to train the model using the train data sets given within them and them `score` function is used to test the performance of the model."
   ]
  },
  {
   "cell_type": "code",
   "execution_count": 5,
   "id": "96dabd0b-0922-4e11-9804-e0b51aa2a42d",
   "metadata": {},
   "outputs": [
    {
     "data": {
      "text/plain": [
       "0.5361602257768757"
      ]
     },
     "execution_count": 5,
     "metadata": {},
     "output_type": "execute_result"
    }
   ],
   "source": [
    "MLPRegressor().fit(X_train,Y_train).score(X_test,Y_test)"
   ]
  },
  {
   "cell_type": "markdown",
   "id": "d65c3405-7d50-4b2c-a375-1f97671efad9",
   "metadata": {},
   "source": [
    "The above model is produced without any parameter tunning.\n",
    "But, the model can be improved by hyperparameter tunning. "
   ]
  },
  {
   "cell_type": "code",
   "execution_count": 6,
   "id": "c6bb9206-c05c-4aad-937f-09531f5cdf2c",
   "metadata": {},
   "outputs": [],
   "source": [
    "regr_MRR = MLPRegressor(hidden_layer_sizes=(9,15),activation='relu',\n",
    "                        alpha=0.02,solver='lbfgs',\n",
    "                        learning_rate='constant',\n",
    "                        max_iter=400)"
   ]
  },
  {
   "cell_type": "code",
   "execution_count": 7,
   "id": "cd796090-9f95-4eb1-95b6-e41102abc028",
   "metadata": {},
   "outputs": [
    {
     "data": {
      "text/plain": [
       "0.8224090608233867"
      ]
     },
     "execution_count": 7,
     "metadata": {},
     "output_type": "execute_result"
    }
   ],
   "source": [
    "regr_MRR.fit(X_train,Y_train)\n",
    "regr_MRR.score(X_test,Y_test)"
   ]
  },
  {
   "cell_type": "markdown",
   "id": "99b6fae1-a754-48e9-9caa-548694dcd2b9",
   "metadata": {},
   "source": [
    "It can seen that the parameter tunning model performed way better than the normal model."
   ]
  },
  {
   "cell_type": "code",
   "execution_count": 8,
   "id": "63683971-c9b5-4ba8-83ac-e8f8c498c238",
   "metadata": {},
   "outputs": [],
   "source": [
    "regr_RA = MLPRegressor(hidden_layer_sizes=(9,9),activation='relu',\n",
    "                        alpha=0.0002,solver='lbfgs',max_iter=1000)"
   ]
  },
  {
   "cell_type": "code",
   "execution_count": 9,
   "id": "1dac8b82-cbff-4ab4-a119-305ffa0d31a5",
   "metadata": {},
   "outputs": [
    {
     "data": {
      "text/plain": [
       "-0.6449073139376"
      ]
     },
     "execution_count": 9,
     "metadata": {},
     "output_type": "execute_result"
    }
   ],
   "source": [
    "regr_RA.fit(X_train2,Y2_train)\n",
    "regr_RA.score(X_test2,Y2_test)"
   ]
  },
  {
   "cell_type": "markdown",
   "id": "5f7e8164-f58f-418c-824d-743c5e4bda35",
   "metadata": {},
   "source": [
    "It can seen that the test score is pretty low.Therefore, it can be concluded that the neural network is not able to find the actual relation between the input variables and surface roughnes."
   ]
  },
  {
   "cell_type": "markdown",
   "id": "57198d48-d1d0-4656-9e4d-017dbf34f774",
   "metadata": {},
   "source": [
    "The neural network models are now saved in pickle file format."
   ]
  },
  {
   "cell_type": "code",
   "execution_count": 10,
   "id": "EtoYes8hMFfe",
   "metadata": {
    "colab": {
     "base_uri": "https://localhost:8080/"
    },
    "id": "EtoYes8hMFfe",
    "outputId": "07d82742-63a8-4bbe-a1c4-469ff94fcb32"
   },
   "outputs": [],
   "source": [
    "import pickle\n",
    "with open('../trained_models/ANN_MRR_sklearn.pkl','wb') as f:\n",
    "    pickle.dump(regr_MRR,f)\n",
    "with open('../trained_models/ANN_RA_sklearn.pkl','wb') as f:\n",
    "    pickle.dump(regr_RA,f)"
   ]
  }
 ],
 "metadata": {
  "colab": {
   "name": "artificial_neuralnet.ipynb",
   "provenance": []
  },
  "kernelspec": {
   "display_name": "Python 3 (ipykernel)",
   "language": "python",
   "name": "python3"
  },
  "language_info": {
   "codemirror_mode": {
    "name": "ipython",
    "version": 3
   },
   "file_extension": ".py",
   "mimetype": "text/x-python",
   "name": "python",
   "nbconvert_exporter": "python",
   "pygments_lexer": "ipython3",
   "version": "3.9.6"
  }
 },
 "nbformat": 4,
 "nbformat_minor": 5
}
