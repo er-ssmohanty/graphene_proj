{
 "cells": [
  {
   "cell_type": "code",
   "execution_count": 1,
   "metadata": {},
   "outputs": [],
   "source": [
    "!conda activate surya"
   ]
  },
  {
   "cell_type": "markdown",
   "metadata": {},
   "source": [
    "# Gradient Boosting Regressor"
   ]
  },
  {
   "cell_type": "markdown",
   "metadata": {},
   "source": [
    "First necessary libraries are imported to run the main program.\n",
    "Pandas is used for data frame creation and handling.\n",
    "Numpy is used for numercial analysis multidimentional array handling.\n",
    "Both Sci-kit learn and Tensorflow module provides various submodules to preprocess the data, create and train the machine learning model and to test it's performance.\n",
    "Matplotlib is used for plotting of graphs."
   ]
  },
  {
   "cell_type": "code",
   "execution_count": 2,
   "metadata": {
    "id": "o3ZbfggFjyDo"
   },
   "outputs": [],
   "source": [
    "from sklearn.ensemble import GradientBoostingRegressor\n",
    "import numpy as np # linear algebra\n",
    "import pandas as pd # data processing, CSV file I/O (e.g. pd.read_csv)\n",
    "import matplotlib.pyplot as plt\n",
    "from sklearn.model_selection import GridSearchCV\n",
    "from sklearn.model_selection import train_test_split\n",
    "from sklearn.model_selection import cross_validate"
   ]
  },
  {
   "cell_type": "markdown",
   "metadata": {},
   "source": [
    "The observational dataset is imported from the csv file and saved as a pandas data frame in variable grd.\n"
   ]
  },
  {
   "cell_type": "code",
   "execution_count": 3,
   "metadata": {
    "id": "-HnICtM5j4k6"
   },
   "outputs": [],
   "source": [
    "grd = pd.read_csv(\"../data/graphene_data_final.csv\")"
   ]
  },
  {
   "cell_type": "markdown",
   "metadata": {},
   "source": [
    "The 1st four columns Graphene_percentage, feed, RPM and DOC were taken as input and MRR as 2st output and `Ra` as 2nd output."
   ]
  },
  {
   "cell_type": "code",
   "execution_count": 4,
   "metadata": {
    "id": "aO7WjvEekACc"
   },
   "outputs": [],
   "source": [
    "X, Y = grd[['Graphene_percentage', 'FEED', 'RPM', 'DOC']], grd['MRR_gm_per_sec']\n",
    "Y2 = grd['Ra']"
   ]
  },
  {
   "cell_type": "markdown",
   "metadata": {},
   "source": [
    "Now the input and output data are splited to form respective test and train data sets.\n",
    "X_train is the input and Y_train is the output data set used to train the model to predict `MRR`.\n",
    "X_test and Y_test are input and output data sets respectively those are used to test the performance of the `MRR` predictor model.\n",
    "X_train2 is the input and Y2_train is the output data set used to train the model to predict `Ra`.\n",
    "X_test2 and Y2_test are input and output data sets respectively those are used to test the performance of the `Ra` predictor model."
   ]
  },
  {
   "cell_type": "code",
   "execution_count": 5,
   "metadata": {
    "id": "OTE0KtcakC6a"
   },
   "outputs": [],
   "source": [
    "X_train, X_test, Y_train, Y_test = train_test_split(X, Y, test_size=0.2, random_state=39)\n",
    "X_train2,X_test2,Y2_train, Y2_test = train_test_split(X, Y2, test_size=0.2, random_state=23)"
   ]
  },
  {
   "cell_type": "markdown",
   "metadata": {
    "id": "SWLPrpUQ8wVX"
   },
   "source": [
    "Here a basic gradient boosting model is created, trained and tested. `GradientBoostingRegressor()` function is used to initiate a gradient boosting model object.\n",
    "`fit` function is used to train the model using the train data sets given within them and them `score` function is used to test the performance of the model."
   ]
  },
  {
   "cell_type": "markdown",
   "metadata": {},
   "source": [
    "The following program predicts the material removal rate."
   ]
  },
  {
   "cell_type": "code",
   "execution_count": 6,
   "metadata": {
    "colab": {
     "base_uri": "https://localhost:8080/"
    },
    "id": "XTv5P9ZtkK9M",
    "outputId": "1561bbb2-fc8e-402a-afd7-9f9789f5726c"
   },
   "outputs": [
    {
     "data": {
      "text/plain": [
       "0.8825338498834934"
      ]
     },
     "execution_count": 6,
     "metadata": {},
     "output_type": "execute_result"
    }
   ],
   "source": [
    "gbr = GradientBoostingRegressor(random_state=0)\n",
    "gbr.fit(X_train, Y_train)\n",
    "gbr.score(X_test,Y_test)"
   ]
  },
  {
   "cell_type": "markdown",
   "metadata": {},
   "source": [
    "THe following program predicts surface roughness."
   ]
  },
  {
   "cell_type": "code",
   "execution_count": 7,
   "metadata": {
    "colab": {
     "base_uri": "https://localhost:8080/"
    },
    "id": "SRxWntVo9CH5",
    "outputId": "730dbe0c-e049-478e-b9c5-0c18382b94f7"
   },
   "outputs": [
    {
     "data": {
      "text/plain": [
       "0.3862120620566041"
      ]
     },
     "execution_count": 7,
     "metadata": {},
     "output_type": "execute_result"
    }
   ],
   "source": [
    "gbr2 = GradientBoostingRegressor(random_state=51)\n",
    "gbr2.fit(X_train2, Y2_train)\n",
    "gbr2.score(X_test2,Y2_test)"
   ]
  },
  {
   "cell_type": "markdown",
   "metadata": {},
   "source": [
    "The above models are produced without any parameter tunning.\n",
    "But we can improve the model by training and testing the models with various sets of multiple parameters and can get the best performing model to predict our output.\n",
    "That's why now parameter grid is created which contains various possible values for parameters to find the best set of parameters."
   ]
  },
  {
   "cell_type": "code",
   "execution_count": 8,
   "metadata": {
    "id": "syrpHjEhkuNe"
   },
   "outputs": [],
   "source": [
    "param_grid = { \n",
    "    'n_estimators': [10,20,30,50,100],\n",
    "    'max_depth' : [1,2,3,4,6,8],\n",
    "    'min_samples_leaf' : [1,2,3,4],\n",
    "    'min_samples_split' : [2,3,4]\n",
    "}"
   ]
  },
  {
   "cell_type": "markdown",
   "metadata": {},
   "source": [
    "Grid search algorithm streamlines the process of finding the best sets of parameters for a given model and provided when parameter grid and a basic model is given to it."
   ]
  },
  {
   "cell_type": "code",
   "execution_count": 9,
   "metadata": {},
   "outputs": [],
   "source": [
    "gbr_cv = GradientBoostingRegressor(random_state=7)"
   ]
  },
  {
   "cell_type": "markdown",
   "metadata": {},
   "source": [
    "GridsearchCV function creates a gridsearch object that takes another model object, parameter grid, number of cross validations to be done as input.\n",
    "Upon fitting the gridsearch model object with train data, it trains and validates itself to find the best set of parameters from the given paramter grid. It is worth mentioning that grid search cv used cross validation algorithm to split the train data into a particular number of parts and uses one part to validate the model and other parts to train the model. At last it is able to find the highest scoring model and its parameters."
   ]
  },
  {
   "cell_type": "code",
   "execution_count": 10,
   "metadata": {
    "colab": {
     "base_uri": "https://localhost:8080/"
    },
    "id": "RAoj21nQ3Jz8",
    "outputId": "86acb5a5-5815-47ba-a9c3-c2c325602e74"
   },
   "outputs": [
    {
     "data": {
      "text/plain": [
       "GridSearchCV(cv=3, estimator=GradientBoostingRegressor(random_state=7),\n",
       "             param_grid={'max_depth': [1, 2, 3, 4, 6, 8],\n",
       "                         'min_samples_leaf': [1, 2, 3, 4],\n",
       "                         'min_samples_split': [2, 3, 4],\n",
       "                         'n_estimators': [10, 20, 30, 50, 100]})"
      ]
     },
     "execution_count": 10,
     "metadata": {},
     "output_type": "execute_result"
    }
   ],
   "source": [
    "CV_gbr = GridSearchCV(estimator=gbr_cv, param_grid=param_grid, cv= 3)\n",
    "CV_gbr.fit(X_train, Y_train)"
   ]
  },
  {
   "cell_type": "markdown",
   "metadata": {},
   "source": [
    "Here it can be seen that grid search model acts a model itself since it inherits the basic model."
   ]
  },
  {
   "cell_type": "code",
   "execution_count": 11,
   "metadata": {
    "colab": {
     "base_uri": "https://localhost:8080/"
    },
    "id": "7O4wj93p6e5z",
    "outputId": "0776b62a-ef65-435f-e36f-4b091cd7d3d0"
   },
   "outputs": [
    {
     "data": {
      "text/plain": [
       "{'max_depth': 3,\n",
       " 'min_samples_leaf': 4,\n",
       " 'min_samples_split': 2,\n",
       " 'n_estimators': 30}"
      ]
     },
     "execution_count": 11,
     "metadata": {},
     "output_type": "execute_result"
    }
   ],
   "source": [
    "CV_gbr.best_params_"
   ]
  },
  {
   "cell_type": "code",
   "execution_count": 12,
   "metadata": {
    "colab": {
     "base_uri": "https://localhost:8080/"
    },
    "id": "dGPSmH3J3Jz8",
    "outputId": "b73dc3a9-4345-4711-c29a-ccf3395ed774"
   },
   "outputs": [
    {
     "data": {
      "text/plain": [
       "0.9083613133714951"
      ]
     },
     "execution_count": 12,
     "metadata": {},
     "output_type": "execute_result"
    }
   ],
   "source": [
    "CV_gbr.score(X_test,Y_test)"
   ]
  },
  {
   "cell_type": "markdown",
   "metadata": {},
   "source": [
    "This model is used to predict surface roughness(Ra)."
   ]
  },
  {
   "cell_type": "code",
   "execution_count": 13,
   "metadata": {
    "id": "bklqj6cB7p4m"
   },
   "outputs": [],
   "source": [
    "gbr_cv2 = GradientBoostingRegressor(random_state=19)"
   ]
  },
  {
   "cell_type": "code",
   "execution_count": 14,
   "metadata": {
    "colab": {
     "base_uri": "https://localhost:8080/"
    },
    "id": "RT6m3Eds3J0B",
    "outputId": "5cf2c250-1601-48d8-e505-3a7f081f289c"
   },
   "outputs": [
    {
     "data": {
      "text/plain": [
       "GridSearchCV(cv=3, estimator=GradientBoostingRegressor(random_state=19),\n",
       "             param_grid={'max_depth': [1, 2, 3, 4, 6, 8],\n",
       "                         'min_samples_leaf': [1, 2, 3, 4],\n",
       "                         'min_samples_split': [2, 3, 4],\n",
       "                         'n_estimators': [10, 20, 30, 50, 100]})"
      ]
     },
     "execution_count": 14,
     "metadata": {},
     "output_type": "execute_result"
    }
   ],
   "source": [
    "CV_gbr2 = GridSearchCV(estimator=gbr_cv2, param_grid=param_grid, cv= 3)\n",
    "CV_gbr2.fit(X_train2, Y2_train)\n"
   ]
  },
  {
   "cell_type": "code",
   "execution_count": 15,
   "metadata": {
    "colab": {
     "base_uri": "https://localhost:8080/"
    },
    "id": "OQq3BNpC7oji",
    "outputId": "18e4f79c-2d63-4b46-e984-c8d064dda9b4"
   },
   "outputs": [
    {
     "name": "stdout",
     "output_type": "stream",
     "text": [
      "0.3524667469551527\n"
     ]
    }
   ],
   "source": [
    "print(CV_gbr2.score(X_test2,Y2_test))"
   ]
  },
  {
   "cell_type": "markdown",
   "metadata": {},
   "source": [
    "The gridsearch model can be seen performing better than the original basic model. The improvement may seem miniscule because the train data set is small and the basic model itself applies certain algorithms to find the best parameters. "
   ]
  },
  {
   "cell_type": "code",
   "execution_count": 16,
   "metadata": {
    "colab": {
     "base_uri": "https://localhost:8080/"
    },
    "id": "hx1-sEdw9dTT",
    "outputId": "f38faf34-f4dc-4489-f3fe-2df3eef807a5"
   },
   "outputs": [
    {
     "data": {
      "text/plain": [
       "{'max_depth': 4,\n",
       " 'min_samples_leaf': 3,\n",
       " 'min_samples_split': 2,\n",
       " 'n_estimators': 20}"
      ]
     },
     "execution_count": 16,
     "metadata": {},
     "output_type": "execute_result"
    }
   ],
   "source": [
    "CV_gbr2.best_params_"
   ]
  },
  {
   "cell_type": "markdown",
   "metadata": {},
   "source": [
    "It can seen that the test score is pretty low.Therefore, it can be concluded that the gridsearch algorithm using the gradient boosting model is not able to find the actual relation between the input variables and surface roughness."
   ]
  },
  {
   "cell_type": "markdown",
   "metadata": {
    "id": "qlMy6nya3J0D"
   },
   "source": [
    "Now the best models are saved for further usage."
   ]
  },
  {
   "cell_type": "code",
   "execution_count": 17,
   "metadata": {
    "id": "0a10QDOl3J0E"
   },
   "outputs": [],
   "source": [
    "import pickle\n",
    "with open('../trained_models/gradient_boosting_MRR.pkl','wb') as f:\n",
    "    pickle.dump(CV_gbr,f)\n",
    "with open('../trained_models/gradient_boosting_RA.pkl','wb') as f:\n",
    "    pickle.dump(gbr2,f)"
   ]
  }
 ],
 "metadata": {
  "colab": {
   "name": "Gradient_boosting.ipynb",
   "provenance": []
  },
  "kernelspec": {
   "display_name": "Python 3 (ipykernel)",
   "language": "python",
   "name": "python3"
  },
  "language_info": {
   "codemirror_mode": {
    "name": "ipython",
    "version": 3
   },
   "file_extension": ".py",
   "mimetype": "text/x-python",
   "name": "python",
   "nbconvert_exporter": "python",
   "pygments_lexer": "ipython3",
   "version": "3.9.6"
  }
 },
 "nbformat": 4,
 "nbformat_minor": 4
}
