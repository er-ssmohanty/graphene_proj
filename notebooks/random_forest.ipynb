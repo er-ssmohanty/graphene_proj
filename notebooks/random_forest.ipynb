{
 "cells": [
  {
   "cell_type": "code",
   "execution_count": 1,
   "id": "268c0182-85ac-4fd0-83fe-99abc0918f80",
   "metadata": {},
   "outputs": [],
   "source": [
    "!conda activate surya"
   ]
  },
  {
   "cell_type": "markdown",
   "id": "021d2469-d593-4763-af37-376af7ead32e",
   "metadata": {},
   "source": [
    "# Random Forest Regressor"
   ]
  },
  {
   "cell_type": "markdown",
   "id": "b7e13539-6437-4dc3-9ee7-dffd08c1c287",
   "metadata": {},
   "source": [
    "First necessary libraries are imported to run the main program.\n",
    "Pandas is used for data frame creation and handling.\n",
    "Numpy is used for numercial analysis multidimentional array handling.\n",
    "Both Sci-kit learn and Tensorflow module provides various submodules to preprocess the data, create and train the machine learning model and to test it's performance.\n",
    "Matplotlib is used for plotting of graphs."
   ]
  },
  {
   "cell_type": "code",
   "execution_count": 2,
   "id": "308f9105-d540-4bfc-9a9e-1fd6e58c48a3",
   "metadata": {
    "id": "308f9105-d540-4bfc-9a9e-1fd6e58c48a3"
   },
   "outputs": [],
   "source": [
    "import numpy as np # linear algebra\n",
    "import pandas as pd # data processing, CSV file I/O (e.g. pd.read_csv)\n",
    "import matplotlib.pyplot as plt\n",
    "\n",
    "from sklearn.model_selection import train_test_split\n",
    "from sklearn.model_selection import cross_val_score\n",
    "from sklearn.model_selection import GridSearchCV\n",
    "from sklearn.ensemble import RandomForestRegressor\n",
    "from sklearn.metrics import accuracy_score\n",
    "from sklearn.model_selection import KFold"
   ]
  },
  {
   "cell_type": "markdown",
   "id": "e1bf2af1-ad0c-42b7-b70d-96766d4f525c",
   "metadata": {},
   "source": [
    "The observational dataset is imported from the csv file and saved as a pandas data frame in variable grd.\n"
   ]
  },
  {
   "cell_type": "code",
   "execution_count": 3,
   "id": "17ce6026-6073-493d-810f-97a58b26d89b",
   "metadata": {
    "id": "17ce6026-6073-493d-810f-97a58b26d89b"
   },
   "outputs": [],
   "source": [
    "grd = pd.read_csv(\"../data/graphene_data_final.csv\")"
   ]
  },
  {
   "cell_type": "markdown",
   "id": "e0718a51-7c52-4ade-b6e4-fa0437b35223",
   "metadata": {},
   "source": [
    "The 1st four columns Graphene_percentage, feed, RPM and DOC were taken as input and MRR as 2st output and `Ra` as 2nd output."
   ]
  },
  {
   "cell_type": "code",
   "execution_count": 4,
   "id": "705b26fe-f135-45c5-82c2-82dc8659ef1f",
   "metadata": {
    "id": "705b26fe-f135-45c5-82c2-82dc8659ef1f"
   },
   "outputs": [],
   "source": [
    "X, Y = grd[['Graphene_percentage', 'FEED', 'RPM', 'DOC']], grd['MRR_gm_per_sec']\n",
    "Y2 = grd['Ra']"
   ]
  },
  {
   "cell_type": "markdown",
   "id": "7e1a520f-8ac8-4cd8-9fe4-c76529ab0b1c",
   "metadata": {},
   "source": [
    "Now the input and output data are splited to form respective test and train data sets.\n",
    "X_train is the input and Y_train is the output data set used to train the model to predict `MRR`.\n",
    "X_test and Y_test are input and output data sets respectively those are used to test the performance of the `MRR` predictor model.\n",
    "X_train2 is the input and Y2_train is the output data set used to train the model to predict `Ra`.\n",
    "X_test2 and Y2_test are input and output data sets respectively those are used to test the performance of the `Ra` predictor model."
   ]
  },
  {
   "cell_type": "code",
   "execution_count": 5,
   "id": "992786de-9dd6-47de-a4ed-7a466f6cb805",
   "metadata": {
    "id": "992786de-9dd6-47de-a4ed-7a466f6cb805"
   },
   "outputs": [],
   "source": [
    "X_train, X_test, Y_train, Y_test = train_test_split(X, Y, test_size=0.2, random_state=2)#)\n",
    "X_train2, X_test2, Y2_train, Y2_test = train_test_split(X, Y2, test_size=0.2, random_state=16)"
   ]
  },
  {
   "cell_type": "markdown",
   "id": "73bc2b8c-caae-4ff9-9e2e-e2f3ad76b500",
   "metadata": {},
   "source": [
    "`RandomForestRegressor()` function is used to initiate a decision tree model object.\n",
    "`fit` function is used to train the model using the train data sets given within them and them `score` function is used to test the performance of the model."
   ]
  },
  {
   "cell_type": "code",
   "execution_count": 6,
   "id": "1748a640-e772-4cf0-94cf-c109d8e10b5a",
   "metadata": {},
   "outputs": [
    {
     "data": {
      "text/plain": [
       "0.8244952449230433"
      ]
     },
     "execution_count": 6,
     "metadata": {},
     "output_type": "execute_result"
    }
   ],
   "source": [
    "RandomForestRegressor(random_state=42).fit(X_train,Y_train).score(X_test,Y_test)"
   ]
  },
  {
   "cell_type": "markdown",
   "id": "89debdb1-17e4-48e6-9111-e9ab090d1bb8",
   "metadata": {},
   "source": [
    "The above model is produced without any parameter tunning.\n",
    "But we can improve the model by training and testing the models with various sets of multiple parameters and can get the best performing model to predict our output.\n",
    "That's why now parameter grid is created which contains various possible values for parameters to find the best set of parameters."
   ]
  },
  {
   "cell_type": "code",
   "execution_count": 7,
   "id": "543d6cd9-b6f9-4a32-ae8b-de93fc1dc57a",
   "metadata": {
    "id": "543d6cd9-b6f9-4a32-ae8b-de93fc1dc57a",
    "tags": []
   },
   "outputs": [],
   "source": [
    "param_grid = { \n",
    "    'n_estimators': [5,10,15,20,30,70,100],\n",
    "    'min_samples_split': [2,4,8,12,16],\n",
    "    'max_features': ['auto', 'sqrt', 'log2'],\n",
    "    'max_depth' : [1,3,5,7,9,11,13,15],\n",
    "}"
   ]
  },
  {
   "cell_type": "markdown",
   "id": "b4111b12-0589-4c5f-9dd4-ab419837842b",
   "metadata": {},
   "source": [
    "Grid search algorithm streamlines the process of finding the best sets of parameters for a given model and provided when parameter grid and a basic model is given to it."
   ]
  },
  {
   "cell_type": "code",
   "execution_count": 8,
   "id": "5a7a9619-e326-4a89-ba35-63f16a320827",
   "metadata": {},
   "outputs": [],
   "source": [
    "rfr=RandomForestRegressor(random_state=42)"
   ]
  },
  {
   "cell_type": "markdown",
   "id": "68e68c66-dc77-40a4-a3d9-418aa0e77152",
   "metadata": {},
   "source": [
    "GridsearchCV function creates a gridsearch object that takes another model object, parameter grid, number of cross validations to be done as input.\n",
    "Upon fitting the gridsearch model object with train data, it trains and validates itself to find the best set of parameters from the given paramter grid. It is worth mentioning that grid search cv used cross validation algorithm to split the train data into a particular number of parts and uses one part to validate the model and other parts to train the model. At last it is able to find the highest scoring model and its parameters."
   ]
  },
  {
   "cell_type": "code",
   "execution_count": 9,
   "id": "d89d58be-c64a-4482-a1e3-9dd5a8116992",
   "metadata": {
    "colab": {
     "base_uri": "https://localhost:8080/"
    },
    "id": "d89d58be-c64a-4482-a1e3-9dd5a8116992",
    "outputId": "f084ef25-865b-44a0-d982-ed377b6dcf73"
   },
   "outputs": [
    {
     "data": {
      "text/plain": [
       "GridSearchCV(cv=5, estimator=RandomForestRegressor(random_state=42),\n",
       "             param_grid={'max_depth': [1, 3, 5, 7, 9, 11, 13, 15],\n",
       "                         'max_features': ['auto', 'sqrt', 'log2'],\n",
       "                         'min_samples_split': [2, 4, 8, 12, 16],\n",
       "                         'n_estimators': [5, 10, 15, 20, 30, 70, 100]})"
      ]
     },
     "execution_count": 9,
     "metadata": {},
     "output_type": "execute_result"
    }
   ],
   "source": [
    "CV_rfr = GridSearchCV(estimator=rfr, param_grid=param_grid, cv= 5)\n",
    "CV_rfr.fit(X_train, Y_train)"
   ]
  },
  {
   "cell_type": "markdown",
   "id": "564508fa-cd9c-48d5-a766-89c781aeb456",
   "metadata": {},
   "source": [
    "Here it can be seen that grid search model acts a model itself since it inherits the basic model."
   ]
  },
  {
   "cell_type": "code",
   "execution_count": 10,
   "id": "EfvE_xvTZgIK",
   "metadata": {
    "colab": {
     "base_uri": "https://localhost:8080/"
    },
    "id": "EfvE_xvTZgIK",
    "outputId": "a3db42e5-6be0-4a0f-e6f0-7be7d2ed4257"
   },
   "outputs": [
    {
     "data": {
      "text/plain": [
       "0.9064374350624473"
      ]
     },
     "execution_count": 10,
     "metadata": {},
     "output_type": "execute_result"
    }
   ],
   "source": [
    "CV_rfr.score(X_train, Y_train)"
   ]
  },
  {
   "cell_type": "code",
   "execution_count": 11,
   "id": "c4bf2e19-47df-4e66-8446-cf1ca687488f",
   "metadata": {
    "colab": {
     "base_uri": "https://localhost:8080/"
    },
    "id": "c4bf2e19-47df-4e66-8446-cf1ca687488f",
    "outputId": "4bb4eb87-cbbb-4c1c-e8f6-19a36f248ec6"
   },
   "outputs": [
    {
     "data": {
      "text/plain": [
       "0.9302202226097197"
      ]
     },
     "execution_count": 11,
     "metadata": {},
     "output_type": "execute_result"
    }
   ],
   "source": [
    "CV_rfr.score(X_test, Y_test)"
   ]
  },
  {
   "cell_type": "markdown",
   "id": "4f7bfb9a-1d02-4305-b74e-0f7f97d5f93c",
   "metadata": {},
   "source": [
    "The gridsearch model can be seen performing better than the original basic model. The improvement may seem miniscule because the train data set is small and the basic model itself applies certain algorithms to find the best parameters. "
   ]
  },
  {
   "cell_type": "code",
   "execution_count": 12,
   "id": "0497f049-3814-4265-98ca-cf570aead41c",
   "metadata": {},
   "outputs": [
    {
     "name": "stdout",
     "output_type": "stream",
     "text": [
      "{'max_depth': 5, 'max_features': 'auto', 'min_samples_split': 12, 'n_estimators': 100}\n"
     ]
    }
   ],
   "source": [
    "print(CV_rfr.best_params_)"
   ]
  },
  {
   "cell_type": "markdown",
   "id": "e4dbb921-7d10-4448-a2aa-6b5ef023520d",
   "metadata": {},
   "source": [
    "This model is used to predict surface roughness(Ra)."
   ]
  },
  {
   "cell_type": "code",
   "execution_count": 13,
   "id": "2d0005da-5825-457e-b8b9-801d42c30a2e",
   "metadata": {},
   "outputs": [],
   "source": [
    "rfr2 = RandomForestRegressor(random_state=21)"
   ]
  },
  {
   "cell_type": "code",
   "execution_count": 14,
   "id": "3777e6f2-78cf-4bd1-a32a-440b879ef9b4",
   "metadata": {},
   "outputs": [
    {
     "data": {
      "text/plain": [
       "GridSearchCV(cv=5, estimator=RandomForestRegressor(random_state=21),\n",
       "             param_grid={'max_depth': [1, 3, 5, 7, 9, 11, 13, 15],\n",
       "                         'max_features': ['auto', 'sqrt', 'log2'],\n",
       "                         'min_samples_split': [2, 4, 8, 12, 16],\n",
       "                         'n_estimators': [5, 10, 15, 20, 30, 70, 100]})"
      ]
     },
     "execution_count": 14,
     "metadata": {},
     "output_type": "execute_result"
    }
   ],
   "source": [
    "CV_rfr2 = GridSearchCV(estimator=rfr2, param_grid=param_grid, cv= 5)\n",
    "CV_rfr2.fit(X_train2, Y2_train)"
   ]
  },
  {
   "cell_type": "code",
   "execution_count": 15,
   "id": "76e9f4c0-1d77-4fa8-abb5-75764ed85a2c",
   "metadata": {
    "tags": []
   },
   "outputs": [
    {
     "data": {
      "text/plain": [
       "0.4797075674406125"
      ]
     },
     "execution_count": 15,
     "metadata": {},
     "output_type": "execute_result"
    }
   ],
   "source": [
    "CV_rfr2.score(X_test2, Y2_test)"
   ]
  },
  {
   "cell_type": "code",
   "execution_count": 16,
   "id": "11483398-f6ef-42cd-8738-ca77188e2064",
   "metadata": {},
   "outputs": [
    {
     "name": "stdout",
     "output_type": "stream",
     "text": [
      "{'max_depth': 7, 'max_features': 'sqrt', 'min_samples_split': 2, 'n_estimators': 10}\n"
     ]
    }
   ],
   "source": [
    "print(CV_rfr2.best_params_)"
   ]
  },
  {
   "cell_type": "markdown",
   "id": "e26812e2-4a73-4a09-a902-351eedba75ce",
   "metadata": {},
   "source": [
    "It can seen that the test score is pretty low.Therefore, it can be concluded that the gridsearch algorithm using the random forest model is not able to find the actual relation between the input variables and surface roughness."
   ]
  },
  {
   "cell_type": "markdown",
   "id": "21b66f07-973d-4f3a-b4de-9ec7ec492f96",
   "metadata": {},
   "source": [
    "The best performing random forest models are saved in \"Pickle\" file format."
   ]
  },
  {
   "cell_type": "code",
   "execution_count": 17,
   "id": "a1f4e3a6-7526-4dbb-8631-8f810c077b12",
   "metadata": {},
   "outputs": [],
   "source": [
    "import pickle\n",
    "with open('../trained_models/random_forest_MRR.pkl','wb') as f:\n",
    "    pickle.dump(CV_rfr,f)"
   ]
  },
  {
   "cell_type": "code",
   "execution_count": 18,
   "id": "4f2cc7b1-1132-4519-b60a-9d658dcebe55",
   "metadata": {},
   "outputs": [],
   "source": [
    "with open('../trained_models/random_forest_RA.pkl','wb') as f:\n",
    "    pickle.dump(CV_rfr2,f)"
   ]
  }
 ],
 "metadata": {
  "colab": {
   "name": "random_forest.ipynb",
   "provenance": []
  },
  "kernelspec": {
   "display_name": "Python 3 (ipykernel)",
   "language": "python",
   "name": "python3"
  },
  "language_info": {
   "codemirror_mode": {
    "name": "ipython",
    "version": 3
   },
   "file_extension": ".py",
   "mimetype": "text/x-python",
   "name": "python",
   "nbconvert_exporter": "python",
   "pygments_lexer": "ipython3",
   "version": "3.9.6"
  }
 },
 "nbformat": 4,
 "nbformat_minor": 5
}
