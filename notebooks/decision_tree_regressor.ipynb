{
 "cells": [
  {
   "cell_type": "code",
   "execution_count": 1,
   "id": "5b03e84e-8011-44dc-b671-98404709a027",
   "metadata": {},
   "outputs": [],
   "source": [
    "!conda activate surya"
   ]
  },
  {
   "cell_type": "markdown",
   "id": "9061d7d6-3524-4fa2-a379-2165f636415e",
   "metadata": {},
   "source": [
    "# Decision Tree Regressor"
   ]
  },
  {
   "cell_type": "markdown",
   "id": "f3fe722a-1973-45dd-be55-34d4682d4323",
   "metadata": {},
   "source": [
    "First necessary libraries are imported to run the main program.\n",
    "Pandas is used for data frame creation and handling.\n",
    "Numpy is used for numercial analysis multidimentional array handling.\n",
    "Sci-kit learn module provides various submodules to preprocess the data, create and train the machine learning model and to test it's performance.\n",
    "Matplotlib is used for plotting of graphs."
   ]
  },
  {
   "cell_type": "code",
   "execution_count": 2,
   "id": "1ad2e12f-d0d5-4297-9e91-ac44b2607f2a",
   "metadata": {},
   "outputs": [],
   "source": [
    "import pandas as pd\n",
    "import numpy as np\n",
    "from sklearn.model_selection import train_test_split\n",
    "import matplotlib.pyplot as plt\n",
    "from sklearn import tree\n",
    "from sklearn.model_selection import GridSearchCV\n",
    "from sklearn.preprocessing import StandardScaler\n",
    "from sklearn.pipeline import make_pipeline\n",
    "from sklearn.metrics import make_scorer"
   ]
  },
  {
   "cell_type": "markdown",
   "id": "b552112e-8fbd-4382-9851-3384cb6dbe55",
   "metadata": {},
   "source": [
    "The observational dataset is imported from the csv file and saved as a pandas data frame in variable grd.\n"
   ]
  },
  {
   "cell_type": "code",
   "execution_count": 3,
   "id": "9bc435d6-d118-4d9e-84ec-4cebf8695198",
   "metadata": {},
   "outputs": [],
   "source": [
    "grd = pd.read_csv(\"../data/graphene_data_final.csv\")"
   ]
  },
  {
   "cell_type": "markdown",
   "id": "5a18d3ed-ae93-4e45-a92f-8292ac0179a1",
   "metadata": {},
   "source": [
    "The 1st four columns Graphene_percentage, feed, RPM and DOC were taken as input and MRR as 2st output and `Ra` as 2nd output."
   ]
  },
  {
   "cell_type": "code",
   "execution_count": 4,
   "id": "f622e1df-602f-44de-903a-2bc394e94d21",
   "metadata": {},
   "outputs": [],
   "source": [
    "X, Y = grd[['Graphene_percentage', 'FEED', 'RPM', 'DOC']], grd['MRR_gm_per_sec']\n",
    "Y2 = grd['Ra']"
   ]
  },
  {
   "cell_type": "markdown",
   "id": "baba4524-240c-4990-83c8-a95449d06d05",
   "metadata": {},
   "source": [
    "Now the input and output data are splited to form respective test and train data sets.\n",
    "X_train is the input and Y_train is the output data set used to train the model to predict `MRR`.\n",
    "X_test and Y_test are input and output data sets respectively those are used to test the performance of the `MRR` predictor model.\n",
    "X_train2 is the input and Y2_train is the output data set used to train the model to predict `Ra`.\n",
    "X_test2 and Y2_test are input and output data sets respectively those are used to test the performance of the `Ra` predictor model."
   ]
  },
  {
   "cell_type": "code",
   "execution_count": 5,
   "id": "4ed3fe54-662b-4b03-8fda-07094bee48c3",
   "metadata": {},
   "outputs": [],
   "source": [
    "X_train, X_test, Y_train, Y_test = train_test_split(X, Y, test_size = 0.2, random_state=33)\n",
    "X_train2, X_test2, Y2_train, Y2_test = train_test_split(X, Y2, test_size = 0.2, random_state=1)"
   ]
  },
  {
   "cell_type": "markdown",
   "id": "ea6cc17e-10a0-4f94-a296-7e315f33dd43",
   "metadata": {},
   "source": [
    "`tree.DecisionTreeRegressor()` function is used to initiate a decision tree model object.\n",
    "`fit` function is used to train the model using the train data sets given within them and them `score` function is used to test the performance of the model."
   ]
  },
  {
   "cell_type": "code",
   "execution_count": 6,
   "id": "a5f60187-daaa-4668-96b8-d0ea2b06e3d7",
   "metadata": {},
   "outputs": [
    {
     "name": "stdout",
     "output_type": "stream",
     "text": [
      "0.8957832243350926\n"
     ]
    }
   ],
   "source": [
    "print(tree.DecisionTreeRegressor().fit(X_train,Y_train).score(X_test,Y_test))"
   ]
  },
  {
   "cell_type": "markdown",
   "id": "784d5bba-ad60-4b7a-bd2a-9df9fe51eac5",
   "metadata": {},
   "source": [
    "The above model is produced without any parameter tunning.\n",
    "But we can improve the model by training and testing the models with various sets of multiple parameters and can get the best performing model to predict our output.\n",
    "That's why now parameter grid is created which contains various possible values for parameters to find the best set of parameters."
   ]
  },
  {
   "cell_type": "code",
   "execution_count": 7,
   "id": "97f11f13-b67e-45cf-a10d-95cd9f45fb08",
   "metadata": {},
   "outputs": [],
   "source": [
    "param_grid = { \n",
    "    'min_samples_split': [2,4,8,12,16],\n",
    "    'max_features': ['auto', 'sqrt', 'log2'],\n",
    "    'min_samples_leaf': [2,4,6,8],\n",
    "    'max_depth' : [1,3,5,7,9,11,13,15],\n",
    "}"
   ]
  },
  {
   "cell_type": "markdown",
   "id": "308a25bb-0abf-48e4-b611-0d1c3ae3a79f",
   "metadata": {},
   "source": [
    "Grid search algorithm streamlines the process of finding the best sets of parameters for a given model and provided when parameter grid and a basic model is given to it."
   ]
  },
  {
   "cell_type": "code",
   "execution_count": 8,
   "id": "554da502-fa31-4f7b-91d5-f9c85027cf4a",
   "metadata": {},
   "outputs": [],
   "source": [
    "dtr_cv = tree.DecisionTreeRegressor(random_state=16)"
   ]
  },
  {
   "cell_type": "markdown",
   "id": "8086678b-6714-47fd-95c3-38235c47c09e",
   "metadata": {},
   "source": [
    "GridsearchCV function creates a gridsearch object that takes another model object, parameter grid, number of cross validations to be done as input.\n",
    "Upon fitting the gridsearch model object with train data, it trains and validates itself to find the best set of parameters from the given paramter grid. It is worth mentioning that grid search cv used cross validation algorithm to split the train data into a particular number of parts and uses one part to validate the model and other parts to train the model. At last it is able to find the highest scoring model and its parameters."
   ]
  },
  {
   "cell_type": "code",
   "execution_count": 9,
   "id": "3acabc56-a497-4d3f-8967-b466bd240aaf",
   "metadata": {},
   "outputs": [
    {
     "data": {
      "text/plain": [
       "GridSearchCV(cv=5, estimator=DecisionTreeRegressor(random_state=16),\n",
       "             param_grid={'max_depth': [1, 3, 5, 7, 9, 11, 13, 15],\n",
       "                         'max_features': ['auto', 'sqrt', 'log2'],\n",
       "                         'min_samples_leaf': [2, 4, 6, 8],\n",
       "                         'min_samples_split': [2, 4, 8, 12, 16]})"
      ]
     },
     "execution_count": 9,
     "metadata": {},
     "output_type": "execute_result"
    }
   ],
   "source": [
    "CV_dtr = GridSearchCV(estimator=dtr_cv, param_grid=param_grid, cv= 5)\n",
    "CV_dtr.fit(X_train, Y_train)"
   ]
  },
  {
   "cell_type": "markdown",
   "id": "d8eaa50c-425a-4533-9000-9fbc8ec1aefb",
   "metadata": {},
   "source": [
    "Here it can be seen that grid search model acts a model itself since it inherits the basic model."
   ]
  },
  {
   "cell_type": "code",
   "execution_count": 10,
   "id": "96a6e08e-a9c8-4d67-8196-4f3572bdc6fd",
   "metadata": {},
   "outputs": [
    {
     "data": {
      "text/plain": [
       "0.9376432888886969"
      ]
     },
     "execution_count": 10,
     "metadata": {},
     "output_type": "execute_result"
    }
   ],
   "source": [
    "CV_dtr.score(X_test, Y_test)"
   ]
  },
  {
   "cell_type": "markdown",
   "id": "914b6065-26fd-46e2-a509-66d418376e03",
   "metadata": {},
   "source": [
    "The gridsearch model can be seen performing better than the original basic model. The improvement may seem miniscule because the train data set is small and the basic model itself applies certain algorithms to find the best parameters. "
   ]
  },
  {
   "cell_type": "code",
   "execution_count": 11,
   "id": "e765be84-76c0-4b18-8d97-c5512cb96d1e",
   "metadata": {},
   "outputs": [
    {
     "data": {
      "text/plain": [
       "{'max_depth': 5,\n",
       " 'max_features': 'auto',\n",
       " 'min_samples_leaf': 6,\n",
       " 'min_samples_split': 2}"
      ]
     },
     "execution_count": 11,
     "metadata": {},
     "output_type": "execute_result"
    }
   ],
   "source": [
    "CV_dtr.best_params_"
   ]
  },
  {
   "cell_type": "markdown",
   "id": "348695d3-7435-4e98-b794-9ece310175ee",
   "metadata": {},
   "source": [
    "This model is used to predict surface roughness(Ra)."
   ]
  },
  {
   "cell_type": "code",
   "execution_count": 12,
   "id": "bd30bdbf-f0b0-4a77-8ebc-6f32c804bef1",
   "metadata": {},
   "outputs": [],
   "source": [
    "dtr_cv2 = tree.DecisionTreeRegressor(random_state=6)"
   ]
  },
  {
   "cell_type": "code",
   "execution_count": 13,
   "id": "e74fc312-7dd0-4899-93e4-95562465a413",
   "metadata": {},
   "outputs": [
    {
     "data": {
      "text/plain": [
       "GridSearchCV(cv=5, estimator=DecisionTreeRegressor(random_state=6),\n",
       "             param_grid={'max_depth': [1, 3, 5, 7, 9, 11, 13, 15],\n",
       "                         'max_features': ['auto', 'sqrt', 'log2'],\n",
       "                         'min_samples_leaf': [2, 4, 6, 8],\n",
       "                         'min_samples_split': [2, 4, 8, 12, 16]})"
      ]
     },
     "execution_count": 13,
     "metadata": {},
     "output_type": "execute_result"
    }
   ],
   "source": [
    "CV_dtr2 = GridSearchCV(estimator=dtr_cv2, param_grid=param_grid, cv= 5)\n",
    "CV_dtr2.fit(X_train2, Y2_train)"
   ]
  },
  {
   "cell_type": "code",
   "execution_count": 14,
   "id": "d8ef780e-c868-4068-9817-2a5cb143d1a4",
   "metadata": {},
   "outputs": [
    {
     "data": {
      "text/plain": [
       "0.4034575741746037"
      ]
     },
     "execution_count": 14,
     "metadata": {},
     "output_type": "execute_result"
    }
   ],
   "source": [
    "CV_dtr2.score(X_test2, Y2_test)"
   ]
  },
  {
   "cell_type": "markdown",
   "id": "6a260453-17dd-4a51-a7b7-8b4418a3c4a4",
   "metadata": {},
   "source": [
    "It can seen that the test score is pretty low.Therefore, it can be concluded that the gridsearch algorithm using the decision tree model is not able to find the actual relation between the input variables and surface roughness."
   ]
  },
  {
   "cell_type": "markdown",
   "id": "967d3233-2b83-4344-889e-4366c84d281e",
   "metadata": {},
   "source": [
    "The best performing decision tree models are saved in \"Pickle\" file format."
   ]
  },
  {
   "cell_type": "code",
   "execution_count": 15,
   "id": "4ad8e978-fcba-4acd-a452-7a04653e54b8",
   "metadata": {},
   "outputs": [],
   "source": [
    "import pickle\n",
    "with open('../trained_models/decision_tree_MRR.pkl','wb') as f:\n",
    "    pickle.dump(CV_dtr,f)\n",
    "with open('../trained_models/decision_tree_RA.pkl','wb') as f:\n",
    "    pickle.dump(CV_dtr2,f)"
   ]
  }
 ],
 "metadata": {
  "kernelspec": {
   "display_name": "Python 3 (ipykernel)",
   "language": "python",
   "name": "python3"
  },
  "language_info": {
   "codemirror_mode": {
    "name": "ipython",
    "version": 3
   },
   "file_extension": ".py",
   "mimetype": "text/x-python",
   "name": "python",
   "nbconvert_exporter": "python",
   "pygments_lexer": "ipython3",
   "version": "3.9.6"
  }
 },
 "nbformat": 4,
 "nbformat_minor": 5
}
